{
 "cells": [
  {
   "cell_type": "code",
   "execution_count": 1,
   "id": "8d39ea42-6bab-4e59-89c6-049176d8b684",
   "metadata": {},
   "outputs": [],
   "source": [
    "##Import Libraries\n",
    "import seaborn as sns\n",
    "import nltk\n",
    "import re\n",
    "import pandas as pd\n",
    "from nltk.stem import WordNetLemmatizer\n",
    "from nltk.corpus import stopwords\n",
    "from nltk.stem.porter import PorterStemmer\n",
    "from sklearn.feature_extraction.text import CountVectorizer\n",
    "from sklearn.model_selection import train_test_split\n",
    "from sklearn.metrics import accuracy_score,classification_report as cr\n",
    "from sklearn.naive_bayes import MultinomialNB\n",
    "from sklearn.svm import SVC\n",
    "from sklearn.ensemble import RandomForestClassifier"
   ]
  },
  {
   "cell_type": "code",
   "execution_count": 2,
   "id": "2fc7c267-42be-4201-b99a-a9d61defc738",
   "metadata": {},
   "outputs": [],
   "source": [
    "##Read .csv as Pandas DF\n",
    "IMDB_Reviews = pd.read_csv('/Users/colinstets/Documents/Fellowship_ai/NLP/IMDB_Dataset.csv')"
   ]
  },
  {
   "cell_type": "code",
   "execution_count": 3,
   "id": "6588a678-7acb-41cd-944f-f147bf057ca2",
   "metadata": {},
   "outputs": [
    {
     "data": {
      "text/html": [
       "<div>\n",
       "<style scoped>\n",
       "    .dataframe tbody tr th:only-of-type {\n",
       "        vertical-align: middle;\n",
       "    }\n",
       "\n",
       "    .dataframe tbody tr th {\n",
       "        vertical-align: top;\n",
       "    }\n",
       "\n",
       "    .dataframe thead th {\n",
       "        text-align: right;\n",
       "    }\n",
       "</style>\n",
       "<table border=\"1\" class=\"dataframe\">\n",
       "  <thead>\n",
       "    <tr style=\"text-align: right;\">\n",
       "      <th></th>\n",
       "      <th>review</th>\n",
       "      <th>sentiment</th>\n",
       "    </tr>\n",
       "  </thead>\n",
       "  <tbody>\n",
       "    <tr>\n",
       "      <th>0</th>\n",
       "      <td>One of the other reviewers has mentioned that ...</td>\n",
       "      <td>positive</td>\n",
       "    </tr>\n",
       "    <tr>\n",
       "      <th>1</th>\n",
       "      <td>A wonderful little production. &lt;br /&gt;&lt;br /&gt;The...</td>\n",
       "      <td>positive</td>\n",
       "    </tr>\n",
       "    <tr>\n",
       "      <th>2</th>\n",
       "      <td>I thought this was a wonderful way to spend ti...</td>\n",
       "      <td>positive</td>\n",
       "    </tr>\n",
       "    <tr>\n",
       "      <th>3</th>\n",
       "      <td>Basically there's a family where a little boy ...</td>\n",
       "      <td>negative</td>\n",
       "    </tr>\n",
       "    <tr>\n",
       "      <th>4</th>\n",
       "      <td>Petter Mattei's \"Love in the Time of Money\" is...</td>\n",
       "      <td>positive</td>\n",
       "    </tr>\n",
       "    <tr>\n",
       "      <th>...</th>\n",
       "      <td>...</td>\n",
       "      <td>...</td>\n",
       "    </tr>\n",
       "    <tr>\n",
       "      <th>49995</th>\n",
       "      <td>I thought this movie did a down right good job...</td>\n",
       "      <td>positive</td>\n",
       "    </tr>\n",
       "    <tr>\n",
       "      <th>49996</th>\n",
       "      <td>Bad plot, bad dialogue, bad acting, idiotic di...</td>\n",
       "      <td>negative</td>\n",
       "    </tr>\n",
       "    <tr>\n",
       "      <th>49997</th>\n",
       "      <td>I am a Catholic taught in parochial elementary...</td>\n",
       "      <td>negative</td>\n",
       "    </tr>\n",
       "    <tr>\n",
       "      <th>49998</th>\n",
       "      <td>I'm going to have to disagree with the previou...</td>\n",
       "      <td>negative</td>\n",
       "    </tr>\n",
       "    <tr>\n",
       "      <th>49999</th>\n",
       "      <td>No one expects the Star Trek movies to be high...</td>\n",
       "      <td>negative</td>\n",
       "    </tr>\n",
       "  </tbody>\n",
       "</table>\n",
       "<p>50000 rows × 2 columns</p>\n",
       "</div>"
      ],
      "text/plain": [
       "                                                  review sentiment\n",
       "0      One of the other reviewers has mentioned that ...  positive\n",
       "1      A wonderful little production. <br /><br />The...  positive\n",
       "2      I thought this was a wonderful way to spend ti...  positive\n",
       "3      Basically there's a family where a little boy ...  negative\n",
       "4      Petter Mattei's \"Love in the Time of Money\" is...  positive\n",
       "...                                                  ...       ...\n",
       "49995  I thought this movie did a down right good job...  positive\n",
       "49996  Bad plot, bad dialogue, bad acting, idiotic di...  negative\n",
       "49997  I am a Catholic taught in parochial elementary...  negative\n",
       "49998  I'm going to have to disagree with the previou...  negative\n",
       "49999  No one expects the Star Trek movies to be high...  negative\n",
       "\n",
       "[50000 rows x 2 columns]"
      ]
     },
     "execution_count": 3,
     "metadata": {},
     "output_type": "execute_result"
    }
   ],
   "source": [
    "IMDB_Reviews"
   ]
  },
  {
   "cell_type": "code",
   "execution_count": 4,
   "id": "623dff2e-4ec9-4cba-b25a-98d37520b6d3",
   "metadata": {},
   "outputs": [
    {
     "data": {
      "text/plain": [
       "'In short if you want to watch Burt Reynolds best films than this one must be included. If you don\\'t like Burt you may still like this. If you love Burt this may become one of your favorite movies of all time! Being from Atlanta it does hit home but it\\'s also nice to see a cop/action/drama that takes place somewhere other than NY City, Chicago, Miami, or LA. The film is funny at points with & good plot & good performances from a great supporting cast (every character is real & the bad guys are not so one sided they are really well thought out)A nice offbeat romance in the 2nd half & it has some good old fashion shootouts & fistfights (no CGI thank God REAL ACTION!)<br /><br />If Clint Eastwood did his best impression of a Burt Reynolds movie with \"Every Which Way But Loose\" & \"Any Which Way You Can\" then Burt responded with his best Clint type flick with this, & it comes off great!'"
      ]
     },
     "execution_count": 4,
     "metadata": {},
     "output_type": "execute_result"
    }
   ],
   "source": [
    "#Example Review\n",
    "IMDB_Reviews['review'].loc[597]"
   ]
  },
  {
   "cell_type": "code",
   "execution_count": 5,
   "id": "de853fbf-560a-42df-a67b-fc6a25672a9e",
   "metadata": {},
   "outputs": [
    {
     "name": "stderr",
     "output_type": "stream",
     "text": [
      "[nltk_data] Downloading package stopwords to\n",
      "[nltk_data]     /Users/colinstets/nltk_data...\n",
      "[nltk_data]   Package stopwords is already up-to-date!\n"
     ]
    },
    {
     "data": {
      "text/plain": [
       "True"
      ]
     },
     "execution_count": 5,
     "metadata": {},
     "output_type": "execute_result"
    }
   ],
   "source": [
    "#Download Stop-Words\n",
    "nltk.download('stopwords')"
   ]
  },
  {
   "cell_type": "code",
   "execution_count": 6,
   "id": "5aea9569-4133-4940-8218-880d7ad4ed3f",
   "metadata": {},
   "outputs": [
    {
     "data": {
      "text/plain": [
       "<AxesSubplot:xlabel='sentiment', ylabel='count'>"
      ]
     },
     "execution_count": 6,
     "metadata": {},
     "output_type": "execute_result"
    },
    {
     "data": {
      "image/png": "[encoded data removed]",
      "text/plain": [
       "<Figure size 432x288 with 1 Axes>"
      ]
     },
     "metadata": {
      "needs_background": "light"
     },
     "output_type": "display_data"
    }
   ],
   "source": [
    "##Vizualize Dataset Sentiment\n",
    "sns.countplot(x='sentiment',palette = 'Set2' , data=IMDB_Reviews)"
   ]
  },
  {
   "cell_type": "code",
   "execution_count": 7,
   "id": "e7126040-1ca3-461c-8fdb-044fda3121b0",
   "metadata": {},
   "outputs": [],
   "source": [
    "#PortStemmer\n",
    "ps = PorterStemmer()"
   ]
  },
  {
   "cell_type": "code",
   "execution_count": 8,
   "id": "38ca3db4-e9b4-421b-a57f-95bc1e6012b6",
   "metadata": {},
   "outputs": [],
   "source": [
    "##Create corpus and remove stopwords\n",
    "corpus = []\n",
    "for i in range(0,len(IMDB_Reviews)):\n",
    "    review = re.sub('[^a-zA-Z]',' ',IMDB_Reviews['review'][i])\n",
    "    review = review.lower()\n",
    "    review = review.split()\n",
    "    review = [ps.stem(word) for word in review if not word in stopwords.words('english')]\n",
    "    review = ' '.join(review)\n",
    "    corpus.append(review)"
   ]
  },
  {
   "cell_type": "code",
   "execution_count": 9,
   "id": "38f31711-767a-415c-b908-aa51dbce192e",
   "metadata": {},
   "outputs": [],
   "source": [
    "# Creating a bag of words model\n",
    "cv = CountVectorizer(max_features=2500)\n",
    "x = cv.fit_transform(corpus).toarray()"
   ]
  },
  {
   "cell_type": "code",
   "execution_count": 10,
   "id": "ddf9794e-32fb-42ba-b8d9-54f5d60b107a",
   "metadata": {},
   "outputs": [],
   "source": [
    "y = pd.get_dummies(IMDB_Reviews['sentiment'])\n",
    "y = y.iloc[:,1].values"
   ]
  },
  {
   "cell_type": "code",
   "execution_count": 11,
   "id": "d770dc6d-5fc0-416b-875e-7f693f24b6df",
   "metadata": {},
   "outputs": [],
   "source": [
    "#Train test split\n",
    "\n",
    "X_train, X_test, y_train, y_test = train_test_split(x,y,test_size=0.25,random_state=0)"
   ]
  },
  {
   "cell_type": "code",
   "execution_count": 12,
   "id": "04a71459-f4cc-47be-942c-efb585fc6907",
   "metadata": {},
   "outputs": [],
   "source": [
    "#Train Multinomial Naive Bayes model on lemmatized bag of words model\n",
    "text_analysis_model = MultinomialNB().fit(X_train,y_train)"
   ]
  },
  {
   "cell_type": "code",
   "execution_count": 13,
   "id": "eaa127de-4b45-474d-b282-f7ed048567ab",
   "metadata": {},
   "outputs": [],
   "source": [
    "#generate predictions\n",
    "y_pred = text_analysis_model.predict(X_test)"
   ]
  },
  {
   "cell_type": "code",
   "execution_count": 14,
   "id": "079214d0-b381-49cc-a202-a49a36ae4e76",
   "metadata": {},
   "outputs": [
    {
     "name": "stdout",
     "output_type": "stream",
     "text": [
      "0.83872\n",
      "              precision    recall  f1-score   support\n",
      "\n",
      "           0       0.84      0.84      0.84      6291\n",
      "           1       0.84      0.84      0.84      6209\n",
      "\n",
      "    accuracy                           0.84     12500\n",
      "   macro avg       0.84      0.84      0.84     12500\n",
      "weighted avg       0.84      0.84      0.84     12500\n",
      "\n"
     ]
    }
   ],
   "source": [
    "#Get accuracy scores for naive bayes with stemming\n",
    "score = accuracy_score(y_test,y_pred)\n",
    "print(score)\n",
    "print(cr(y_test,y_pred))"
   ]
  },
  {
   "cell_type": "code",
   "execution_count": 15,
   "id": "1cca59fb-63ee-4f22-bcb3-3266e96c78fe",
   "metadata": {},
   "outputs": [],
   "source": [
    "#Train random forest classifier on lemmatized bag of words model\n",
    "classifer = RandomForestClassifier().fit(X_train,y_train)"
   ]
  },
  {
   "cell_type": "code",
   "execution_count": 16,
   "id": "817c6a03-006e-4c24-ba60-66fd5700f006",
   "metadata": {},
   "outputs": [],
   "source": [
    "#generate predictions\n",
    "y_pred2 = classifer.predict(X_test)"
   ]
  },
  {
   "cell_type": "code",
   "execution_count": 17,
   "id": "6ab283ba-39fc-4c0b-863b-9c2893380028",
   "metadata": {},
   "outputs": [
    {
     "name": "stdout",
     "output_type": "stream",
     "text": [
      "0.84168\n",
      "              precision    recall  f1-score   support\n",
      "\n",
      "           0       0.84      0.85      0.84      6291\n",
      "           1       0.85      0.83      0.84      6209\n",
      "\n",
      "    accuracy                           0.84     12500\n",
      "   macro avg       0.84      0.84      0.84     12500\n",
      "weighted avg       0.84      0.84      0.84     12500\n",
      "\n"
     ]
    }
   ],
   "source": [
    "#Get accuracy scores for random forest with stemming\n",
    "score = accuracy_score(y_test,y_pred2)\n",
    "print(score)\n",
    "print(cr(y_test,y_pred2))"
   ]
  },
  {
   "cell_type": "code",
   "execution_count": 19,
   "id": "b132ffe5-2aa6-4e48-8c22-c257179ba6b2",
   "metadata": {},
   "outputs": [],
   "source": [
    "#Lemmatization\n",
    "lemmatizer=WordNetLemmatizer()"
   ]
  },
  {
   "cell_type": "code",
   "execution_count": 20,
   "id": "0cdb1675-044e-49fc-ac69-f4f38ffacd6b",
   "metadata": {},
   "outputs": [],
   "source": [
    "##Create corpus and remove stopwords\n",
    "corpus = []\n",
    "for i in range(0, len(IMDB_Reviews)):\n",
    "    review = re.sub('[^a-zA-Z]', ' ', IMDB_Reviews['review'][i])\n",
    "    review = review.lower()\n",
    "    review = review.split()\n",
    "    \n",
    "    review = [lemmatizer.lemmatize(word) for word in review if not word in stopwords.words('english')]\n",
    "    review = ' '.join(review)\n",
    "    corpus.append(review)"
   ]
  },
  {
   "cell_type": "code",
   "execution_count": 22,
   "id": "8ad615ad-3481-4827-8fa1-357cd851cd53",
   "metadata": {},
   "outputs": [],
   "source": [
    "#Create Bag of Words model\n",
    "cv = CountVectorizer(max_features=2500)\n",
    "x = cv.fit_transform(corpus).toarray()"
   ]
  },
  {
   "cell_type": "code",
   "execution_count": 23,
   "id": "ef194ffc-9a65-432b-8cf5-3c6bdc20ad7c",
   "metadata": {},
   "outputs": [],
   "source": [
    "#Get dummy variables for sentiment categorical variables\n",
    "y = pd.get_dummies(IMDB_Reviews['sentiment'])\n",
    "y = y.iloc[:,1].values"
   ]
  },
  {
   "cell_type": "code",
   "execution_count": 24,
   "id": "c7d4de06-b583-4dfa-9548-77d497f2a471",
   "metadata": {},
   "outputs": [],
   "source": [
    "#train / test split\n",
    "X_train, X_test, y_train, y_test = train_test_split(x,y,test_size=0.25,random_state=0)"
   ]
  },
  {
   "cell_type": "code",
   "execution_count": 25,
   "id": "fc819d43-a234-488a-ae61-8668fac80ba7",
   "metadata": {},
   "outputs": [],
   "source": [
    "#Multinomial naive bayes model with lemmatization\n",
    "text_analysis_model2 = MultinomialNB().fit(X_train,y_train)"
   ]
  },
  {
   "cell_type": "code",
   "execution_count": 26,
   "id": "c551e301-5427-4b9e-b47e-b60ee7939160",
   "metadata": {},
   "outputs": [],
   "source": [
    "#predictions\n",
    "y_prediction = text_analysis_model2.predict(X_test)"
   ]
  },
  {
   "cell_type": "code",
   "execution_count": 27,
   "id": "d4bce67b-b57a-4389-949f-9ec0cf4c13a1",
   "metadata": {},
   "outputs": [
    {
     "name": "stdout",
     "output_type": "stream",
     "text": [
      "0.8404\n",
      "              precision    recall  f1-score   support\n",
      "\n",
      "           0       0.84      0.84      0.84      6291\n",
      "           1       0.84      0.84      0.84      6209\n",
      "\n",
      "    accuracy                           0.84     12500\n",
      "   macro avg       0.84      0.84      0.84     12500\n",
      "weighted avg       0.84      0.84      0.84     12500\n",
      "\n"
     ]
    }
   ],
   "source": [
    "#Accuracy Score for naive bayes with lemmatization\n",
    "score = accuracy_score(y_test,y_prediction)\n",
    "print(score)\n",
    "print(cr(y_test,y_prediction))"
   ]
  },
  {
   "cell_type": "code",
   "execution_count": 28,
   "id": "6caea62a-eca7-4f24-a4ca-f0c985839e2c",
   "metadata": {},
   "outputs": [],
   "source": [
    "#Random forest classifier with lemmatization\n",
    "classifer2 = RandomForestClassifier().fit(X_train,y_train)"
   ]
  },
  {
   "cell_type": "code",
   "execution_count": 29,
   "id": "9727e57e-895b-4314-add5-52913292f989",
   "metadata": {},
   "outputs": [],
   "source": [
    "#predictions\n",
    "y_prediction2 = classifer2.predict(X_test)"
   ]
  },
  {
   "cell_type": "code",
   "execution_count": 30,
   "id": "c4f87367-b2a4-4993-bda6-fd173f3315fe",
   "metadata": {},
   "outputs": [
    {
     "name": "stdout",
     "output_type": "stream",
     "text": [
      "0.8424\n",
      "              precision    recall  f1-score   support\n",
      "\n",
      "           0       0.84      0.85      0.84      6291\n",
      "           1       0.84      0.84      0.84      6209\n",
      "\n",
      "    accuracy                           0.84     12500\n",
      "   macro avg       0.84      0.84      0.84     12500\n",
      "weighted avg       0.84      0.84      0.84     12500\n",
      "\n"
     ]
    }
   ],
   "source": [
    "#Accuracy score for random forest model with lemmatization\n",
    "score = accuracy_score(y_test,y_prediction2)\n",
    "print(score)\n",
    "print(cr(y_test,y_prediction2))"
   ]
  },
  {
   "cell_type": "code",
   "execution_count": 31,
   "id": "64b7ee8d-c877-4fd1-9f70-7e5a1c1f9e72",
   "metadata": {},
   "outputs": [],
   "source": [
    "# Creating a TF-IDF model\n",
    "from sklearn.feature_extraction.text import TfidfVectorizer\n",
    "tv = TfidfVectorizer(max_features=2500)\n",
    "X = tv.fit_transform(corpus).toarray()"
   ]
  },
  {
   "cell_type": "code",
   "execution_count": 32,
   "id": "70128a29-7379-4f6e-9033-3490bdadb1cc",
   "metadata": {},
   "outputs": [],
   "source": [
    "#train / tes split\n",
    "X_train, X_test, y_train, y_test = train_test_split(X, y, test_size = 0.20, random_state = 0)"
   ]
  },
  {
   "cell_type": "code",
   "execution_count": 33,
   "id": "d2579134-605b-4b14-9d77-426efb29b23b",
   "metadata": {},
   "outputs": [],
   "source": [
    "#Multinomial Naive Bayes with TF-IDF vectorization model\n",
    "text_analysis_model2 = MultinomialNB().fit(X_train,y_train)"
   ]
  },
  {
   "cell_type": "code",
   "execution_count": 35,
   "id": "906c1fe4-b325-4154-b354-8179fdd7887a",
   "metadata": {},
   "outputs": [],
   "source": [
    "#predictions\n",
    "y_predtf = text_analysis_model2.predict(X_test)"
   ]
  },
  {
   "cell_type": "code",
   "execution_count": 36,
   "id": "8a04b348-13fd-4d0d-af11-34ab99c4aa21",
   "metadata": {},
   "outputs": [
    {
     "name": "stdout",
     "output_type": "stream",
     "text": [
      "0.8471\n",
      "              precision    recall  f1-score   support\n",
      "\n",
      "           0       0.86      0.84      0.85      5035\n",
      "           1       0.84      0.86      0.85      4965\n",
      "\n",
      "    accuracy                           0.85     10000\n",
      "   macro avg       0.85      0.85      0.85     10000\n",
      "weighted avg       0.85      0.85      0.85     10000\n",
      "\n"
     ]
    }
   ],
   "source": [
    "#Accuracy score for naive bayes with tf-idf vectorization model\n",
    "score=accuracy_score(y_test,y_predtf)\n",
    "print(score)\n",
    "print(cr(y_test,y_predtf))"
   ]
  },
  {
   "cell_type": "code",
   "execution_count": 37,
   "id": "a951660c-8282-4be3-b951-af6ad7be0303",
   "metadata": {},
   "outputs": [],
   "source": [
    "#Random forest classifier with tf-idf vectorization model\n",
    "classifer2 = RandomForestClassifier().fit(X_train,y_train)"
   ]
  },
  {
   "cell_type": "code",
   "execution_count": 38,
   "id": "b3b71835-cc39-464a-abb8-246c174b7770",
   "metadata": {},
   "outputs": [],
   "source": [
    "#predictions\n",
    "classifer_predict = classifer2.predict(X_test)"
   ]
  },
  {
   "cell_type": "code",
   "execution_count": 39,
   "id": "799f9ee7-31e9-4a4a-9805-177f40c3567d",
   "metadata": {},
   "outputs": [
    {
     "name": "stdout",
     "output_type": "stream",
     "text": [
      "0.8404\n",
      "              precision    recall  f1-score   support\n",
      "\n",
      "           0       0.83      0.85      0.84      5035\n",
      "           1       0.85      0.83      0.84      4965\n",
      "\n",
      "    accuracy                           0.84     10000\n",
      "   macro avg       0.84      0.84      0.84     10000\n",
      "weighted avg       0.84      0.84      0.84     10000\n",
      "\n"
     ]
    }
   ],
   "source": [
    "#Accuracy score for random forest with tf-idf model\n",
    "score=accuracy_score(y_test,classifer_predict)\n",
    "print(score)\n",
    "print(cr(y_test,classifer_predict))"
   ]
  }
 ],
 "metadata": {
  "kernelspec": {
   "display_name": "Python 3 (ipykernel)",
   "language": "python",
   "name": "python3"
  },
  "language_info": {
   "codemirror_mode": {
    "name": "ipython",
    "version": 3
   },
   "file_extension": ".py",
   "mimetype": "text/x-python",
   "name": "python",
   "nbconvert_exporter": "python",
   "pygments_lexer": "ipython3",
   "version": "3.8.1"
  }
 },
 "nbformat": 4,
 "nbformat_minor": 5
}
